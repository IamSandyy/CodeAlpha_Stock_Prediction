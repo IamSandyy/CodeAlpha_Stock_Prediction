{
 "cells": [
  {
   "cell_type": "code",
   "execution_count": 1,
   "id": "3a2f3a9e-f71c-4c32-b877-83a916355791",
   "metadata": {},
   "outputs": [],
   "source": [
    "import numpy as np\n",
    "import pandas as pd\n",
    "from sklearn.preprocessing import MinMaxScaler\n",
    "import matplotlib.pyplot as plt\n",
    "\n",
    "import torch\n",
    "import torch.nn as nn"
   ]
  },
  {
   "cell_type": "code",
   "execution_count": 2,
   "id": "9ce399ae-7b37-4f40-b31b-1d5122fa7744",
   "metadata": {},
   "outputs": [],
   "source": [
    "df = pd.read_csv(\"netflix.csv\")\n",
    "closed_prices = df[\"Close\"]"
   ]
  },
  {
   "cell_type": "code",
   "execution_count": 3,
   "id": "7f8baf02-dc1b-46da-8bd9-0eebdf353f6f",
   "metadata": {},
   "outputs": [
    {
     "data": {
      "text/html": [
       "<div>\n",
       "<style scoped>\n",
       "    .dataframe tbody tr th:only-of-type {\n",
       "        vertical-align: middle;\n",
       "    }\n",
       "\n",
       "    .dataframe tbody tr th {\n",
       "        vertical-align: top;\n",
       "    }\n",
       "\n",
       "    .dataframe thead th {\n",
       "        text-align: right;\n",
       "    }\n",
       "</style>\n",
       "<table border=\"1\" class=\"dataframe\">\n",
       "  <thead>\n",
       "    <tr style=\"text-align: right;\">\n",
       "      <th></th>\n",
       "      <th>Date</th>\n",
       "      <th>High</th>\n",
       "      <th>Low</th>\n",
       "      <th>Open</th>\n",
       "      <th>Close</th>\n",
       "      <th>Volume</th>\n",
       "      <th>Adj Close</th>\n",
       "    </tr>\n",
       "  </thead>\n",
       "  <tbody>\n",
       "    <tr>\n",
       "      <th>0</th>\n",
       "      <td>23-05-2002</td>\n",
       "      <td>1.242857</td>\n",
       "      <td>1.145714</td>\n",
       "      <td>1.156429</td>\n",
       "      <td>1.196429</td>\n",
       "      <td>104790000</td>\n",
       "      <td>1.196429</td>\n",
       "    </tr>\n",
       "    <tr>\n",
       "      <th>1</th>\n",
       "      <td>24-05-2002</td>\n",
       "      <td>1.225000</td>\n",
       "      <td>1.197143</td>\n",
       "      <td>1.214286</td>\n",
       "      <td>1.210000</td>\n",
       "      <td>11104800</td>\n",
       "      <td>1.210000</td>\n",
       "    </tr>\n",
       "    <tr>\n",
       "      <th>2</th>\n",
       "      <td>28-05-2002</td>\n",
       "      <td>1.232143</td>\n",
       "      <td>1.157143</td>\n",
       "      <td>1.213571</td>\n",
       "      <td>1.157143</td>\n",
       "      <td>6609400</td>\n",
       "      <td>1.157143</td>\n",
       "    </tr>\n",
       "    <tr>\n",
       "      <th>3</th>\n",
       "      <td>29-05-2002</td>\n",
       "      <td>1.164286</td>\n",
       "      <td>1.085714</td>\n",
       "      <td>1.164286</td>\n",
       "      <td>1.103571</td>\n",
       "      <td>6757800</td>\n",
       "      <td>1.103571</td>\n",
       "    </tr>\n",
       "    <tr>\n",
       "      <th>4</th>\n",
       "      <td>30-05-2002</td>\n",
       "      <td>1.107857</td>\n",
       "      <td>1.071429</td>\n",
       "      <td>1.107857</td>\n",
       "      <td>1.071429</td>\n",
       "      <td>10154200</td>\n",
       "      <td>1.071429</td>\n",
       "    </tr>\n",
       "  </tbody>\n",
       "</table>\n",
       "</div>"
      ],
      "text/plain": [
       "         Date      High       Low      Open     Close     Volume  Adj Close\n",
       "0  23-05-2002  1.242857  1.145714  1.156429  1.196429  104790000   1.196429\n",
       "1  24-05-2002  1.225000  1.197143  1.214286  1.210000   11104800   1.210000\n",
       "2  28-05-2002  1.232143  1.157143  1.213571  1.157143    6609400   1.157143\n",
       "3  29-05-2002  1.164286  1.085714  1.164286  1.103571    6757800   1.103571\n",
       "4  30-05-2002  1.107857  1.071429  1.107857  1.071429   10154200   1.071429"
      ]
     },
     "execution_count": 3,
     "metadata": {},
     "output_type": "execute_result"
    }
   ],
   "source": [
    "df.head()"
   ]
  },
  {
   "cell_type": "code",
   "execution_count": 4,
   "id": "0beeaf69-85d0-43ef-bdd0-65d3afc29a14",
   "metadata": {},
   "outputs": [
    {
     "data": {
      "text/plain": [
       "(4881, 7)"
      ]
     },
     "execution_count": 4,
     "metadata": {},
     "output_type": "execute_result"
    }
   ],
   "source": [
    "df.shape"
   ]
  },
  {
   "cell_type": "code",
   "execution_count": 7,
   "id": "ab8b7871-a557-4092-bec3-fe82615af436",
   "metadata": {},
   "outputs": [],
   "source": [
    "mm = MinMaxScaler()\n",
    "scaled_price = mm.fit_transform(np.array(closed_prices)[..., None]).squeeze()\n",
    "seq_len=15"
   ]
  },
  {
   "cell_type": "code",
   "execution_count": 8,
   "id": "c55e15bc-ecc2-4e51-a247-63d1655eb6ba",
   "metadata": {},
   "outputs": [],
   "source": [
    "X = []\n",
    "y = []\n",
    "\n",
    "for i in range(len(scaled_price) - seq_len):\n",
    "    X.append(scaled_price[i: i + seq_len])\n",
    "    y.append(scaled_price[i + seq_len])\n",
    "\n",
    "X = np.array(X)[..., None]\n",
    "y = np.array(y)[..., None]\n",
    "\n",
    "train_x = torch.from_numpy(X[:int(0.8 * X.shape[0])]).float()\n",
    "train_y = torch.from_numpy(y[:int(0.8 * X.shape[0])]).float()\n",
    "test_x = torch.from_numpy(X[int(0.8 * X.shape[0]):]).float()\n",
    "test_y = torch.from_numpy(y[int(0.8 * X.shape[0]):]).float()"
   ]
  },
  {
   "cell_type": "code",
   "execution_count": 9,
   "id": "cfabefb1-353e-4c42-ac00-aa3687e596fc",
   "metadata": {},
   "outputs": [],
   "source": [
    "class Model(nn.Module):\n",
    "    def __init__(self, input_size, hidden_size):\n",
    "        super().__init__()\n",
    "        self.lstm = nn.LSTM(input_size, hidden_size, batch_first=True)\n",
    "        self.fc = nn.Linear(hidden_size, 1)\n",
    "\n",
    "    def forward(self, x):\n",
    "        output, (hidden, cell) = self.lstm(x)\n",
    "        return self.fc(hidden[-1, :])"
   ]
  },
  {
   "cell_type": "code",
   "execution_count": 10,
   "id": "4d61e720-b62d-47a1-bc3e-588295d10ea7",
   "metadata": {},
   "outputs": [],
   "source": [
    "model = Model(1, 64)\n",
    "\n",
    "optimizer = torch.optim.Adam(model.parameters(), lr=0.001)\n",
    "loss_fn = nn.MSELoss()"
   ]
  },
  {
   "cell_type": "code",
   "execution_count": 11,
   "id": "3dd18078-b187-4083-a3a8-cb77ccdfbc59",
   "metadata": {},
   "outputs": [
    {
     "name": "stdout",
     "output_type": "stream",
     "text": [
      "10 epoch loss 0.0058433376\n",
      "20 epoch loss 0.0046476745\n",
      "30 epoch loss 0.0040973504\n",
      "40 epoch loss 0.0034291344\n",
      "50 epoch loss 0.00216675\n",
      "60 epoch loss 8.4150335e-05\n",
      "70 epoch loss 6.762153e-05\n",
      "80 epoch loss 0.00010075637\n",
      "90 epoch loss 7.2336705e-05\n"
     ]
    }
   ],
   "source": [
    "num_epochs = 100\n",
    "\n",
    "for epoch in range(num_epochs):\n",
    "    output = model(train_x)\n",
    "    loss = loss_fn(output, train_y)\n",
    "\n",
    "    optimizer.zero_grad()\n",
    "    loss.backward()\n",
    "    optimizer.step()\n",
    "\n",
    "    if epoch % 10 == 0 and epoch != 0:\n",
    "        print(epoch, \"epoch loss\", loss.detach().numpy())\n"
   ]
  },
  {
   "cell_type": "code",
   "execution_count": 12,
   "id": "f9c2b938-c3aa-4bc2-a90b-6b1fd11ad2a5",
   "metadata": {},
   "outputs": [
    {
     "data": {
      "image/png": "[encoded data removed]",
      "text/plain": [
       "<Figure size 640x480 with 1 Axes>"
      ]
     },
     "metadata": {},
     "output_type": "display_data"
    }
   ],
   "source": [
    "model.eval()\n",
    "with torch.no_grad():\n",
    "    output = model(test_x)\n",
    "\n",
    "pred = mm.inverse_transform(output.numpy())\n",
    "real = mm.inverse_transform(test_y.numpy())\n",
    "\n",
    "plt.plot(pred.squeeze(), color=\"red\", label=\"predicted\")\n",
    "plt.plot(real.squeeze(), color=\"green\", label=\"real\")\n",
    "plt.show()\n"
   ]
  },
  {
   "cell_type": "code",
   "execution_count": null,
   "id": "7475cb40-b1d1-4584-86e8-a465a152fa53",
   "metadata": {},
   "outputs": [],
   "source": []
  }
 ],
 "metadata": {
  "kernelspec": {
   "display_name": "Python 3 (ipykernel)",
   "language": "python",
   "name": "python3"
  },
  "language_info": {
   "codemirror_mode": {
    "name": "ipython",
    "version": 3
   },
   "file_extension": ".py",
   "mimetype": "text/x-python",
   "name": "python",
   "nbconvert_exporter": "python",
   "pygments_lexer": "ipython3",
   "version": "3.10.11"
  }
 },
 "nbformat": 4,
 "nbformat_minor": 5
}
